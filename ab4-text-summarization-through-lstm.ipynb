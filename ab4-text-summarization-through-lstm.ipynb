{
 "cells": [
  {
   "cell_type": "code",
   "execution_count": 1,
   "id": "2bbae6b7",
   "metadata": {
    "execution": {
     "iopub.execute_input": "2022-09-30T05:37:35.364704Z",
     "iopub.status.busy": "2022-09-30T05:37:35.364236Z",
     "iopub.status.idle": "2022-09-30T05:37:43.083296Z",
     "shell.execute_reply": "2022-09-30T05:37:43.082011Z"
    },
    "papermill": {
     "duration": 7.73282,
     "end_time": "2022-09-30T05:37:43.086222",
     "exception": false,
     "start_time": "2022-09-30T05:37:35.353402",
     "status": "completed"
    },
    "tags": []
   },
   "outputs": [],
   "source": [
    "import numpy as np  \n",
    "import pandas as pd \n",
    "import re           \n",
    "from bs4 import BeautifulSoup \n",
    "from keras.preprocessing.text import Tokenizer \n",
    "from keras.preprocessing.sequence import pad_sequences\n",
    "from nltk.corpus import stopwords   \n",
    "from tensorflow.keras.layers import Input, LSTM, Embedding, Dense, Concatenate, TimeDistributed, Bidirectional\n",
    "from tensorflow.keras.models import Model\n",
    "from tensorflow.keras.callbacks import EarlyStopping\n",
    "from tensorflow.keras.layers import Attention\n",
    "import warnings\n",
    "pd.set_option(\"display.max_colwidth\", 200)\n",
    "warnings.filterwarnings(\"ignore\")"
   ]
  },
  {
   "cell_type": "code",
   "execution_count": 2,
   "id": "8fa3b8c7",
   "metadata": {
    "execution": {
     "iopub.execute_input": "2022-09-30T05:37:43.104385Z",
     "iopub.status.busy": "2022-09-30T05:37:43.103670Z",
     "iopub.status.idle": "2022-09-30T05:37:44.601358Z",
     "shell.execute_reply": "2022-09-30T05:37:44.600209Z"
    },
    "papermill": {
     "duration": 1.509561,
     "end_time": "2022-09-30T05:37:44.603956",
     "exception": false,
     "start_time": "2022-09-30T05:37:43.094395",
     "status": "completed"
    },
    "tags": []
   },
   "outputs": [],
   "source": [
    "data = pd.read_csv(\"../input/amazon-fine-food-reviews/Reviews.csv\", nrows=100000)"
   ]
  },
  {
   "cell_type": "code",
   "execution_count": 3,
   "id": "4c2c4469",
   "metadata": {
    "execution": {
     "iopub.execute_input": "2022-09-30T05:37:44.621170Z",
     "iopub.status.busy": "2022-09-30T05:37:44.620670Z",
     "iopub.status.idle": "2022-09-30T05:37:44.644170Z",
     "shell.execute_reply": "2022-09-30T05:37:44.642953Z"
    },
    "papermill": {
     "duration": 0.034887,
     "end_time": "2022-09-30T05:37:44.646774",
     "exception": false,
     "start_time": "2022-09-30T05:37:44.611887",
     "status": "completed"
    },
    "tags": []
   },
   "outputs": [
    {
     "data": {
      "text/html": [
       "<div>\n",
       "<style scoped>\n",
       "    .dataframe tbody tr th:only-of-type {\n",
       "        vertical-align: middle;\n",
       "    }\n",
       "\n",
       "    .dataframe tbody tr th {\n",
       "        vertical-align: top;\n",
       "    }\n",
       "\n",
       "    .dataframe thead th {\n",
       "        text-align: right;\n",
       "    }\n",
       "</style>\n",
       "<table border=\"1\" class=\"dataframe\">\n",
       "  <thead>\n",
       "    <tr style=\"text-align: right;\">\n",
       "      <th></th>\n",
       "      <th>Id</th>\n",
       "      <th>ProductId</th>\n",
       "      <th>UserId</th>\n",
       "      <th>ProfileName</th>\n",
       "      <th>HelpfulnessNumerator</th>\n",
       "      <th>HelpfulnessDenominator</th>\n",
       "      <th>Score</th>\n",
       "      <th>Time</th>\n",
       "      <th>Summary</th>\n",
       "      <th>Text</th>\n",
       "    </tr>\n",
       "  </thead>\n",
       "  <tbody>\n",
       "    <tr>\n",
       "      <th>0</th>\n",
       "      <td>1</td>\n",
       "      <td>B001E4KFG0</td>\n",
       "      <td>A3SGXH7AUHU8GW</td>\n",
       "      <td>delmartian</td>\n",
       "      <td>1</td>\n",
       "      <td>1</td>\n",
       "      <td>5</td>\n",
       "      <td>1303862400</td>\n",
       "      <td>Good Quality Dog Food</td>\n",
       "      <td>I have bought several of the Vitality canned dog food products and have found them all to be of good quality. The product looks more like a stew than a processed meat and it smells better. My Labr...</td>\n",
       "    </tr>\n",
       "    <tr>\n",
       "      <th>1</th>\n",
       "      <td>2</td>\n",
       "      <td>B00813GRG4</td>\n",
       "      <td>A1D87F6ZCVE5NK</td>\n",
       "      <td>dll pa</td>\n",
       "      <td>0</td>\n",
       "      <td>0</td>\n",
       "      <td>1</td>\n",
       "      <td>1346976000</td>\n",
       "      <td>Not as Advertised</td>\n",
       "      <td>Product arrived labeled as Jumbo Salted Peanuts...the peanuts were actually small sized unsalted. Not sure if this was an error or if the vendor intended to represent the product as \"Jumbo\".</td>\n",
       "    </tr>\n",
       "    <tr>\n",
       "      <th>2</th>\n",
       "      <td>3</td>\n",
       "      <td>B000LQOCH0</td>\n",
       "      <td>ABXLMWJIXXAIN</td>\n",
       "      <td>Natalia Corres \"Natalia Corres\"</td>\n",
       "      <td>1</td>\n",
       "      <td>1</td>\n",
       "      <td>4</td>\n",
       "      <td>1219017600</td>\n",
       "      <td>\"Delight\" says it all</td>\n",
       "      <td>This is a confection that has been around a few centuries.  It is a light, pillowy citrus gelatin with nuts - in this case Filberts. And it is cut into tiny squares and then liberally coated with ...</td>\n",
       "    </tr>\n",
       "    <tr>\n",
       "      <th>3</th>\n",
       "      <td>4</td>\n",
       "      <td>B000UA0QIQ</td>\n",
       "      <td>A395BORC6FGVXV</td>\n",
       "      <td>Karl</td>\n",
       "      <td>3</td>\n",
       "      <td>3</td>\n",
       "      <td>2</td>\n",
       "      <td>1307923200</td>\n",
       "      <td>Cough Medicine</td>\n",
       "      <td>If you are looking for the secret ingredient in Robitussin I believe I have found it.  I got this in addition to the Root Beer Extract I ordered (which was good) and made some cherry soda.  The fl...</td>\n",
       "    </tr>\n",
       "    <tr>\n",
       "      <th>4</th>\n",
       "      <td>5</td>\n",
       "      <td>B006K2ZZ7K</td>\n",
       "      <td>A1UQRSCLF8GW1T</td>\n",
       "      <td>Michael D. Bigham \"M. Wassir\"</td>\n",
       "      <td>0</td>\n",
       "      <td>0</td>\n",
       "      <td>5</td>\n",
       "      <td>1350777600</td>\n",
       "      <td>Great taffy</td>\n",
       "      <td>Great taffy at a great price.  There was a wide assortment of yummy taffy.  Delivery was very quick.  If your a taffy lover, this is a deal.</td>\n",
       "    </tr>\n",
       "  </tbody>\n",
       "</table>\n",
       "</div>"
      ],
      "text/plain": [
       "   Id   ProductId          UserId                      ProfileName  \\\n",
       "0   1  B001E4KFG0  A3SGXH7AUHU8GW                       delmartian   \n",
       "1   2  B00813GRG4  A1D87F6ZCVE5NK                           dll pa   \n",
       "2   3  B000LQOCH0   ABXLMWJIXXAIN  Natalia Corres \"Natalia Corres\"   \n",
       "3   4  B000UA0QIQ  A395BORC6FGVXV                             Karl   \n",
       "4   5  B006K2ZZ7K  A1UQRSCLF8GW1T    Michael D. Bigham \"M. Wassir\"   \n",
       "\n",
       "   HelpfulnessNumerator  HelpfulnessDenominator  Score        Time  \\\n",
       "0                     1                       1      5  1303862400   \n",
       "1                     0                       0      1  1346976000   \n",
       "2                     1                       1      4  1219017600   \n",
       "3                     3                       3      2  1307923200   \n",
       "4                     0                       0      5  1350777600   \n",
       "\n",
       "                 Summary  \\\n",
       "0  Good Quality Dog Food   \n",
       "1      Not as Advertised   \n",
       "2  \"Delight\" says it all   \n",
       "3         Cough Medicine   \n",
       "4            Great taffy   \n",
       "\n",
       "                                                                                                                                                                                                      Text  \n",
       "0  I have bought several of the Vitality canned dog food products and have found them all to be of good quality. The product looks more like a stew than a processed meat and it smells better. My Labr...  \n",
       "1           Product arrived labeled as Jumbo Salted Peanuts...the peanuts were actually small sized unsalted. Not sure if this was an error or if the vendor intended to represent the product as \"Jumbo\".  \n",
       "2  This is a confection that has been around a few centuries.  It is a light, pillowy citrus gelatin with nuts - in this case Filberts. And it is cut into tiny squares and then liberally coated with ...  \n",
       "3  If you are looking for the secret ingredient in Robitussin I believe I have found it.  I got this in addition to the Root Beer Extract I ordered (which was good) and made some cherry soda.  The fl...  \n",
       "4                                                             Great taffy at a great price.  There was a wide assortment of yummy taffy.  Delivery was very quick.  If your a taffy lover, this is a deal.  "
      ]
     },
     "execution_count": 3,
     "metadata": {},
     "output_type": "execute_result"
    }
   ],
   "source": [
    "data.head()"
   ]
  },
  {
   "cell_type": "code",
   "execution_count": 4,
   "id": "532a59f2",
   "metadata": {
    "execution": {
     "iopub.execute_input": "2022-09-30T05:37:44.664617Z",
     "iopub.status.busy": "2022-09-30T05:37:44.663947Z",
     "iopub.status.idle": "2022-09-30T05:37:44.670617Z",
     "shell.execute_reply": "2022-09-30T05:37:44.669488Z"
    },
    "papermill": {
     "duration": 0.018295,
     "end_time": "2022-09-30T05:37:44.672984",
     "exception": false,
     "start_time": "2022-09-30T05:37:44.654689",
     "status": "completed"
    },
    "tags": []
   },
   "outputs": [
    {
     "data": {
      "text/plain": [
       "100000"
      ]
     },
     "execution_count": 4,
     "metadata": {},
     "output_type": "execute_result"
    }
   ],
   "source": [
    "len(data.index)"
   ]
  },
  {
   "cell_type": "code",
   "execution_count": 5,
   "id": "e2f48d81",
   "metadata": {
    "execution": {
     "iopub.execute_input": "2022-09-30T05:37:44.690706Z",
     "iopub.status.busy": "2022-09-30T05:37:44.690324Z",
     "iopub.status.idle": "2022-09-30T05:37:44.695972Z",
     "shell.execute_reply": "2022-09-30T05:37:44.694748Z"
    },
    "papermill": {
     "duration": 0.017255,
     "end_time": "2022-09-30T05:37:44.698391",
     "exception": false,
     "start_time": "2022-09-30T05:37:44.681136",
     "status": "completed"
    },
    "tags": []
   },
   "outputs": [
    {
     "name": "stdout",
     "output_type": "stream",
     "text": [
      "Id\n",
      "ProductId\n",
      "UserId\n",
      "ProfileName\n",
      "HelpfulnessNumerator\n",
      "HelpfulnessDenominator\n",
      "Score\n",
      "Time\n",
      "Summary\n",
      "Text\n"
     ]
    }
   ],
   "source": [
    "for col in data.columns:\n",
    "    print(col)"
   ]
  },
  {
   "cell_type": "code",
   "execution_count": 6,
   "id": "2d10663d",
   "metadata": {
    "execution": {
     "iopub.execute_input": "2022-09-30T05:37:44.717519Z",
     "iopub.status.busy": "2022-09-30T05:37:44.717053Z",
     "iopub.status.idle": "2022-09-30T05:37:44.923860Z",
     "shell.execute_reply": "2022-09-30T05:37:44.922552Z"
    },
    "papermill": {
     "duration": 0.218696,
     "end_time": "2022-09-30T05:37:44.926583",
     "exception": false,
     "start_time": "2022-09-30T05:37:44.707887",
     "status": "completed"
    },
    "tags": []
   },
   "outputs": [],
   "source": [
    "data.drop_duplicates(subset=['Text'], inplace=True)\n",
    "data.dropna(axis=0, inplace=True)"
   ]
  },
  {
   "cell_type": "code",
   "execution_count": 7,
   "id": "60b73039",
   "metadata": {
    "execution": {
     "iopub.execute_input": "2022-09-30T05:37:44.944770Z",
     "iopub.status.busy": "2022-09-30T05:37:44.944378Z",
     "iopub.status.idle": "2022-09-30T05:37:44.950866Z",
     "shell.execute_reply": "2022-09-30T05:37:44.949816Z"
    },
    "papermill": {
     "duration": 0.018342,
     "end_time": "2022-09-30T05:37:44.953142",
     "exception": false,
     "start_time": "2022-09-30T05:37:44.934800",
     "status": "completed"
    },
    "tags": []
   },
   "outputs": [
    {
     "data": {
      "text/plain": [
       "88421"
      ]
     },
     "execution_count": 7,
     "metadata": {},
     "output_type": "execute_result"
    }
   ],
   "source": [
    "len(data.index)"
   ]
  },
  {
   "cell_type": "code",
   "execution_count": 8,
   "id": "89a8c9ef",
   "metadata": {
    "execution": {
     "iopub.execute_input": "2022-09-30T05:37:44.971374Z",
     "iopub.status.busy": "2022-09-30T05:37:44.970977Z",
     "iopub.status.idle": "2022-09-30T05:37:44.984792Z",
     "shell.execute_reply": "2022-09-30T05:37:44.983853Z"
    },
    "papermill": {
     "duration": 0.025703,
     "end_time": "2022-09-30T05:37:44.987115",
     "exception": false,
     "start_time": "2022-09-30T05:37:44.961412",
     "status": "completed"
    },
    "tags": []
   },
   "outputs": [],
   "source": [
    "contraction_mapping = {\"ain't\": \"is not\", \"aren't\": \"are not\",\"can't\": \"cannot\", \"'cause\": \"because\", \"could've\": \"could have\", \"couldn't\": \"could not\",\n",
    "\n",
    "                           \"didn't\": \"did not\", \"doesn't\": \"does not\", \"don't\": \"do not\", \"hadn't\": \"had not\", \"hasn't\": \"has not\", \"haven't\": \"have not\",\n",
    "\n",
    "                           \"he'd\": \"he would\",\"he'll\": \"he will\", \"he's\": \"he is\", \"how'd\": \"how did\", \"how'd'y\": \"how do you\", \"how'll\": \"how will\", \"how's\": \"how is\",\n",
    "\n",
    "                           \"I'd\": \"I would\", \"I'd've\": \"I would have\", \"I'll\": \"I will\", \"I'll've\": \"I will have\",\"I'm\": \"I am\", \"I've\": \"I have\", \"i'd\": \"i would\",\n",
    "\n",
    "                           \"i'd've\": \"i would have\", \"i'll\": \"i will\",  \"i'll've\": \"i will have\",\"i'm\": \"i am\", \"i've\": \"i have\", \"isn't\": \"is not\", \"it'd\": \"it would\",\n",
    "\n",
    "                           \"it'd've\": \"it would have\", \"it'll\": \"it will\", \"it'll've\": \"it will have\",\"it's\": \"it is\", \"let's\": \"let us\", \"ma'am\": \"madam\",\n",
    "\n",
    "                           \"mayn't\": \"may not\", \"might've\": \"might have\",\"mightn't\": \"might not\",\"mightn't've\": \"might not have\", \"must've\": \"must have\",\n",
    "\n",
    "                           \"mustn't\": \"must not\", \"mustn't've\": \"must not have\", \"needn't\": \"need not\", \"needn't've\": \"need not have\",\"o'clock\": \"of the clock\",\n",
    "\n",
    "                           \"oughtn't\": \"ought not\", \"oughtn't've\": \"ought not have\", \"shan't\": \"shall not\", \"sha'n't\": \"shall not\", \"shan't've\": \"shall not have\",\n",
    "\n",
    "                           \"she'd\": \"she would\", \"she'd've\": \"she would have\", \"she'll\": \"she will\", \"she'll've\": \"she will have\", \"she's\": \"she is\",\n",
    "\n",
    "                           \"should've\": \"should have\", \"shouldn't\": \"should not\", \"shouldn't've\": \"should not have\", \"so've\": \"so have\",\"so's\": \"so as\",\n",
    "\n",
    "                           \"this's\": \"this is\",\"that'd\": \"that would\", \"that'd've\": \"that would have\", \"that's\": \"that is\", \"there'd\": \"there would\",\n",
    "\n",
    "                           \"there'd've\": \"there would have\", \"there's\": \"there is\", \"here's\": \"here is\",\"they'd\": \"they would\", \"they'd've\": \"they would have\",\n",
    "\n",
    "                           \"they'll\": \"they will\", \"they'll've\": \"they will have\", \"they're\": \"they are\", \"they've\": \"they have\", \"to've\": \"to have\",\n",
    "\n",
    "                           \"wasn't\": \"was not\", \"we'd\": \"we would\", \"we'd've\": \"we would have\", \"we'll\": \"we will\", \"we'll've\": \"we will have\", \"we're\": \"we are\",\n",
    "\n",
    "                           \"we've\": \"we have\", \"weren't\": \"were not\", \"what'll\": \"what will\", \"what'll've\": \"what will have\", \"what're\": \"what are\",\n",
    "\n",
    "                           \"what's\": \"what is\", \"what've\": \"what have\", \"when's\": \"when is\", \"when've\": \"when have\", \"where'd\": \"where did\", \"where's\": \"where is\",\n",
    "\n",
    "                           \"where've\": \"where have\", \"who'll\": \"who will\", \"who'll've\": \"who will have\", \"who's\": \"who is\", \"who've\": \"who have\",\n",
    "\n",
    "                           \"why's\": \"why is\", \"why've\": \"why have\", \"will've\": \"will have\", \"won't\": \"will not\", \"won't've\": \"will not have\",\n",
    "\n",
    "                           \"would've\": \"would have\", \"wouldn't\": \"would not\", \"wouldn't've\": \"would not have\", \"y'all\": \"you all\",\n",
    "\n",
    "                           \"y'all'd\": \"you all would\",\"y'all'd've\": \"you all would have\",\"y'all're\": \"you all are\",\"y'all've\": \"you all have\",\n",
    "\n",
    "                           \"you'd\": \"you would\", \"you'd've\": \"you would have\", \"you'll\": \"you will\", \"you'll've\": \"you will have\",\n",
    "\n",
    "                           \"you're\": \"you are\", \"you've\": \"you have\"}\n"
   ]
  },
  {
   "cell_type": "code",
   "execution_count": 9,
   "id": "2d69c454",
   "metadata": {
    "execution": {
     "iopub.execute_input": "2022-09-30T05:37:45.005434Z",
     "iopub.status.busy": "2022-09-30T05:37:45.005030Z",
     "iopub.status.idle": "2022-09-30T05:37:45.013349Z",
     "shell.execute_reply": "2022-09-30T05:37:45.012277Z"
    },
    "papermill": {
     "duration": 0.020181,
     "end_time": "2022-09-30T05:37:45.015533",
     "exception": false,
     "start_time": "2022-09-30T05:37:44.995352",
     "status": "completed"
    },
    "tags": []
   },
   "outputs": [
    {
     "data": {
      "text/plain": [
       "0    I have bought several of the Vitality canned dog food products and have found them all to be of good quality. The product looks more like a stew than a processed meat and it smells better. My Labr...\n",
       "1             Product arrived labeled as Jumbo Salted Peanuts...the peanuts were actually small sized unsalted. Not sure if this was an error or if the vendor intended to represent the product as \"Jumbo\".\n",
       "2    This is a confection that has been around a few centuries.  It is a light, pillowy citrus gelatin with nuts - in this case Filberts. And it is cut into tiny squares and then liberally coated with ...\n",
       "3    If you are looking for the secret ingredient in Robitussin I believe I have found it.  I got this in addition to the Root Beer Extract I ordered (which was good) and made some cherry soda.  The fl...\n",
       "4                                                               Great taffy at a great price.  There was a wide assortment of yummy taffy.  Delivery was very quick.  If your a taffy lover, this is a deal.\n",
       "Name: Text, dtype: object"
      ]
     },
     "execution_count": 9,
     "metadata": {},
     "output_type": "execute_result"
    }
   ],
   "source": [
    "data['Text'][:5]"
   ]
  },
  {
   "cell_type": "code",
   "execution_count": 10,
   "id": "f9649090",
   "metadata": {
    "execution": {
     "iopub.execute_input": "2022-09-30T05:37:45.034356Z",
     "iopub.status.busy": "2022-09-30T05:37:45.033934Z",
     "iopub.status.idle": "2022-09-30T05:37:45.044782Z",
     "shell.execute_reply": "2022-09-30T05:37:45.043968Z"
    },
    "papermill": {
     "duration": 0.023042,
     "end_time": "2022-09-30T05:37:45.046911",
     "exception": false,
     "start_time": "2022-09-30T05:37:45.023869",
     "status": "completed"
    },
    "tags": []
   },
   "outputs": [],
   "source": [
    "# getting the stop_words\n",
    "stop_words = set(stopwords.words('english'))"
   ]
  },
  {
   "cell_type": "code",
   "execution_count": 11,
   "id": "652e2a11",
   "metadata": {
    "execution": {
     "iopub.execute_input": "2022-09-30T05:37:45.065296Z",
     "iopub.status.busy": "2022-09-30T05:37:45.064787Z",
     "iopub.status.idle": "2022-09-30T05:38:16.260888Z",
     "shell.execute_reply": "2022-09-30T05:38:16.259939Z"
    },
    "papermill": {
     "duration": 31.208373,
     "end_time": "2022-09-30T05:38:16.263766",
     "exception": false,
     "start_time": "2022-09-30T05:37:45.055393",
     "status": "completed"
    },
    "tags": []
   },
   "outputs": [],
   "source": [
    "# any kind of text that makes sense or provide meaning to us is going\n",
    "def text_clean(text):\n",
    "    newString = text.lower()\n",
    "    newString = BeautifulSoup(newString, \"lxml\").text\n",
    "    newString = re.sub(r'\\([^)]*\\)', '', newString) # remove all the brackets and related stuff, the main reason is because, anything that makes sense to us might not be required for machines\n",
    "    newString = re.sub('\"','', newString)\n",
    "    newString = ' '.join([contraction_mapping[t] if t in contraction_mapping else t for t in newString.split(\" \")])    \n",
    "    newString = re.sub(r\"'s\\b\",\"\",newString) #removing all apostrophe s from the word\n",
    "    newString = re.sub(\"[^a-zA-Z]\", \" \", newString) #removing all non alphabet characters\n",
    "    tokens = [w for w in newString.split() if not w in stop_words] # removing all the stop words\n",
    "    long_words=[]\n",
    "    for i in tokens: #removing short word\n",
    "        if len(i)>=3:                  \n",
    "            long_words.append(i)   \n",
    "    return (\" \".join(long_words)).strip()\n",
    "\n",
    "cleaned_text = []\n",
    "for t in data['Text']:\n",
    "    cleaned_text.append(text_clean(t))"
   ]
  },
  {
   "cell_type": "code",
   "execution_count": 12,
   "id": "27b263b3",
   "metadata": {
    "execution": {
     "iopub.execute_input": "2022-09-30T05:38:16.286810Z",
     "iopub.status.busy": "2022-09-30T05:38:16.286409Z",
     "iopub.status.idle": "2022-09-30T05:38:16.351746Z",
     "shell.execute_reply": "2022-09-30T05:38:16.350311Z"
    },
    "papermill": {
     "duration": 0.079534,
     "end_time": "2022-09-30T05:38:16.354628",
     "exception": false,
     "start_time": "2022-09-30T05:38:16.275094",
     "status": "completed"
    },
    "tags": []
   },
   "outputs": [],
   "source": [
    "data.dropna(axis=0, inplace=True)"
   ]
  },
  {
   "cell_type": "code",
   "execution_count": 13,
   "id": "36581af6",
   "metadata": {
    "execution": {
     "iopub.execute_input": "2022-09-30T05:38:16.373508Z",
     "iopub.status.busy": "2022-09-30T05:38:16.373055Z",
     "iopub.status.idle": "2022-09-30T05:38:16.380242Z",
     "shell.execute_reply": "2022-09-30T05:38:16.379138Z"
    },
    "papermill": {
     "duration": 0.019101,
     "end_time": "2022-09-30T05:38:16.382493",
     "exception": false,
     "start_time": "2022-09-30T05:38:16.363392",
     "status": "completed"
    },
    "tags": []
   },
   "outputs": [
    {
     "data": {
      "text/plain": [
       "88421"
      ]
     },
     "execution_count": 13,
     "metadata": {},
     "output_type": "execute_result"
    }
   ],
   "source": [
    "len(data.index)"
   ]
  },
  {
   "cell_type": "code",
   "execution_count": 14,
   "id": "016b3aa2",
   "metadata": {
    "execution": {
     "iopub.execute_input": "2022-09-30T05:38:16.401778Z",
     "iopub.status.busy": "2022-09-30T05:38:16.400856Z",
     "iopub.status.idle": "2022-09-30T05:38:16.409059Z",
     "shell.execute_reply": "2022-09-30T05:38:16.408011Z"
    },
    "papermill": {
     "duration": 0.020398,
     "end_time": "2022-09-30T05:38:16.411450",
     "exception": false,
     "start_time": "2022-09-30T05:38:16.391052",
     "status": "completed"
    },
    "tags": []
   },
   "outputs": [
    {
     "data": {
      "text/plain": [
       "0                            Good Quality Dog Food\n",
       "1                                Not as Advertised\n",
       "2                            \"Delight\" says it all\n",
       "3                                   Cough Medicine\n",
       "4                                      Great taffy\n",
       "5                                       Nice Taffy\n",
       "6    Great!  Just as good as the expensive brands!\n",
       "7                           Wonderful, tasty taffy\n",
       "8                                       Yay Barley\n",
       "9                                 Healthy Dog Food\n",
       "Name: Summary, dtype: object"
      ]
     },
     "execution_count": 14,
     "metadata": {},
     "output_type": "execute_result"
    }
   ],
   "source": [
    "data['Summary'][:10]"
   ]
  },
  {
   "cell_type": "code",
   "execution_count": 15,
   "id": "3283040b",
   "metadata": {
    "execution": {
     "iopub.execute_input": "2022-09-30T05:38:16.431212Z",
     "iopub.status.busy": "2022-09-30T05:38:16.430846Z",
     "iopub.status.idle": "2022-09-30T05:38:17.304403Z",
     "shell.execute_reply": "2022-09-30T05:38:17.303445Z"
    },
    "papermill": {
     "duration": 0.886494,
     "end_time": "2022-09-30T05:38:17.307050",
     "exception": false,
     "start_time": "2022-09-30T05:38:16.420556",
     "status": "completed"
    },
    "tags": []
   },
   "outputs": [],
   "source": [
    "def summary_cleaner(text):\n",
    "    newString = re.sub('\"','', text)\n",
    "    newString = ' '.join([contraction_mapping[t] if t in contraction_mapping else t for t in newString.split(\" \")])    \n",
    "    newString = re.sub(r\"'s\\b\",\"\",newString)\n",
    "    newString = re.sub(\"[^a-zA-Z]\", \" \", newString)\n",
    "    newString = newString.lower()\n",
    "    tokens=newString.split()\n",
    "    newString=''\n",
    "    for i in tokens:\n",
    "        if len(i)>1:                                 \n",
    "            newString=newString+i+' '  \n",
    "    return newString\n",
    "\n",
    "#Call the above function\n",
    "cleaned_summary = []\n",
    "for t in data['Summary']:\n",
    "    cleaned_summary.append(summary_cleaner(t))\n",
    "\n",
    "data['cleaned_text']=cleaned_text\n",
    "data['cleaned_summary']=cleaned_summary\n",
    "data['cleaned_summary'].replace('', np.nan, inplace=True)\n",
    "data.dropna(axis=0,inplace=True)"
   ]
  },
  {
   "cell_type": "code",
   "execution_count": 16,
   "id": "1522868a",
   "metadata": {
    "execution": {
     "iopub.execute_input": "2022-09-30T05:38:17.326612Z",
     "iopub.status.busy": "2022-09-30T05:38:17.325938Z",
     "iopub.status.idle": "2022-09-30T05:38:17.364606Z",
     "shell.execute_reply": "2022-09-30T05:38:17.363597Z"
    },
    "papermill": {
     "duration": 0.051556,
     "end_time": "2022-09-30T05:38:17.367462",
     "exception": false,
     "start_time": "2022-09-30T05:38:17.315906",
     "status": "completed"
    },
    "tags": []
   },
   "outputs": [],
   "source": [
    "data['cleaned_summary'] = data['cleaned_summary'].apply(lambda x : '_START_ '+ x + ' _END_')"
   ]
  },
  {
   "cell_type": "code",
   "execution_count": 17,
   "id": "cebe6998",
   "metadata": {
    "execution": {
     "iopub.execute_input": "2022-09-30T05:38:17.387007Z",
     "iopub.status.busy": "2022-09-30T05:38:17.386635Z",
     "iopub.status.idle": "2022-09-30T05:38:17.396199Z",
     "shell.execute_reply": "2022-09-30T05:38:17.394861Z"
    },
    "papermill": {
     "duration": 0.02248,
     "end_time": "2022-09-30T05:38:17.398693",
     "exception": false,
     "start_time": "2022-09-30T05:38:17.376213",
     "status": "completed"
    },
    "tags": []
   },
   "outputs": [
    {
     "name": "stdout",
     "output_type": "stream",
     "text": [
      "Review: bought several vitality canned dog food products found good quality product looks like stew processed meat smells better labrador finicky appreciates product better\n",
      "Summary: _START_ good quality dog food  _END_\n",
      "\n",
      "\n",
      "Review: product arrived labeled jumbo salted peanuts peanuts actually small sized unsalted sure error vendor intended represent product jumbo\n",
      "Summary: _START_ not as advertised  _END_\n",
      "\n",
      "\n",
      "Review: confection around centuries light pillowy citrus gelatin nuts case filberts cut tiny squares liberally coated powdered sugar tiny mouthful heaven chewy flavorful highly recommend yummy treat familiar story lewis lion witch wardrobe treat seduces edmund selling brother sisters witch\n",
      "Summary: _START_ delight says it all  _END_\n",
      "\n",
      "\n",
      "Review: looking secret ingredient robitussin believe found got addition root beer extract ordered made cherry soda flavor medicinal\n",
      "Summary: _START_ cough medicine  _END_\n",
      "\n",
      "\n",
      "Review: great taffy great price wide assortment yummy taffy delivery quick taffy lover deal\n",
      "Summary: _START_ great taffy  _END_\n",
      "\n",
      "\n"
     ]
    }
   ],
   "source": [
    "for i in range(5):\n",
    "    print(\"Review:\",data['cleaned_text'][i])\n",
    "    print(\"Summary:\",data['cleaned_summary'][i])\n",
    "    print(\"\\n\")"
   ]
  },
  {
   "cell_type": "code",
   "execution_count": 18,
   "id": "7bacef07",
   "metadata": {
    "execution": {
     "iopub.execute_input": "2022-09-30T05:38:17.418222Z",
     "iopub.status.busy": "2022-09-30T05:38:17.417553Z",
     "iopub.status.idle": "2022-09-30T05:38:18.115559Z",
     "shell.execute_reply": "2022-09-30T05:38:18.114513Z"
    },
    "papermill": {
     "duration": 0.709898,
     "end_time": "2022-09-30T05:38:18.117729",
     "exception": false,
     "start_time": "2022-09-30T05:38:17.407831",
     "status": "completed"
    },
    "tags": []
   },
   "outputs": [
    {
     "data": {
      "image/png": "[encoded data removed]",
      "text/plain": [
       "<Figure size 432x288 with 2 Axes>"
      ]
     },
     "metadata": {
      "needs_background": "light"
     },
     "output_type": "display_data"
    }
   ],
   "source": [
    "import matplotlib.pyplot as plt\n",
    "text_word_count = []\n",
    "summary_word_count = []\n",
    "\n",
    "# populate the lists with sentence lengths\n",
    "for i in data['cleaned_text']:\n",
    "      text_word_count.append(len(i.split()))\n",
    "\n",
    "for i in data['cleaned_summary']:\n",
    "      summary_word_count.append(len(i.split()))\n",
    "\n",
    "length_df = pd.DataFrame({'text':text_word_count, 'summary':summary_word_count})\n",
    "length_df.hist(bins = 30)\n",
    "plt.show()"
   ]
  },
  {
   "cell_type": "code",
   "execution_count": 19,
   "id": "193265fe",
   "metadata": {
    "execution": {
     "iopub.execute_input": "2022-09-30T05:38:18.138378Z",
     "iopub.status.busy": "2022-09-30T05:38:18.137555Z",
     "iopub.status.idle": "2022-09-30T05:38:18.142400Z",
     "shell.execute_reply": "2022-09-30T05:38:18.141356Z"
    },
    "papermill": {
     "duration": 0.017483,
     "end_time": "2022-09-30T05:38:18.144656",
     "exception": false,
     "start_time": "2022-09-30T05:38:18.127173",
     "status": "completed"
    },
    "tags": []
   },
   "outputs": [],
   "source": [
    "max_len_text=80 \n",
    "max_len_summary=10"
   ]
  },
  {
   "cell_type": "code",
   "execution_count": 20,
   "id": "fca73aed",
   "metadata": {
    "execution": {
     "iopub.execute_input": "2022-09-30T05:38:18.164329Z",
     "iopub.status.busy": "2022-09-30T05:38:18.163806Z",
     "iopub.status.idle": "2022-09-30T05:38:18.187402Z",
     "shell.execute_reply": "2022-09-30T05:38:18.186354Z"
    },
    "papermill": {
     "duration": 0.036417,
     "end_time": "2022-09-30T05:38:18.190056",
     "exception": false,
     "start_time": "2022-09-30T05:38:18.153639",
     "status": "completed"
    },
    "tags": []
   },
   "outputs": [],
   "source": [
    "from sklearn.model_selection import train_test_split\n",
    "x_tr,x_val,y_tr,y_val=train_test_split(data['cleaned_text'],data['cleaned_summary'],test_size=0.1,random_state=0,shuffle=True)"
   ]
  },
  {
   "cell_type": "code",
   "execution_count": 21,
   "id": "a8e51244",
   "metadata": {
    "execution": {
     "iopub.execute_input": "2022-09-30T05:38:18.210326Z",
     "iopub.status.busy": "2022-09-30T05:38:18.209916Z",
     "iopub.status.idle": "2022-09-30T05:38:18.216222Z",
     "shell.execute_reply": "2022-09-30T05:38:18.215141Z"
    },
    "papermill": {
     "duration": 0.018961,
     "end_time": "2022-09-30T05:38:18.218373",
     "exception": false,
     "start_time": "2022-09-30T05:38:18.199412",
     "status": "completed"
    },
    "tags": []
   },
   "outputs": [
    {
     "data": {
      "text/plain": [
       "79516"
      ]
     },
     "execution_count": 21,
     "metadata": {},
     "output_type": "execute_result"
    }
   ],
   "source": [
    "len(x_tr.index)"
   ]
  },
  {
   "cell_type": "code",
   "execution_count": 22,
   "id": "0ae6a2a8",
   "metadata": {
    "execution": {
     "iopub.execute_input": "2022-09-30T05:38:18.238596Z",
     "iopub.status.busy": "2022-09-30T05:38:18.237954Z",
     "iopub.status.idle": "2022-09-30T05:38:18.244550Z",
     "shell.execute_reply": "2022-09-30T05:38:18.243457Z"
    },
    "papermill": {
     "duration": 0.019224,
     "end_time": "2022-09-30T05:38:18.246597",
     "exception": false,
     "start_time": "2022-09-30T05:38:18.227373",
     "status": "completed"
    },
    "tags": []
   },
   "outputs": [
    {
     "data": {
      "text/plain": [
       "8836"
      ]
     },
     "execution_count": 22,
     "metadata": {},
     "output_type": "execute_result"
    }
   ],
   "source": [
    "len(x_val.index)"
   ]
  },
  {
   "cell_type": "code",
   "execution_count": 23,
   "id": "87b27d38",
   "metadata": {
    "execution": {
     "iopub.execute_input": "2022-09-30T05:38:18.266932Z",
     "iopub.status.busy": "2022-09-30T05:38:18.266300Z",
     "iopub.status.idle": "2022-09-30T05:38:18.272857Z",
     "shell.execute_reply": "2022-09-30T05:38:18.271976Z"
    },
    "papermill": {
     "duration": 0.019277,
     "end_time": "2022-09-30T05:38:18.274952",
     "exception": false,
     "start_time": "2022-09-30T05:38:18.255675",
     "status": "completed"
    },
    "tags": []
   },
   "outputs": [
    {
     "data": {
      "text/plain": [
       "79516"
      ]
     },
     "execution_count": 23,
     "metadata": {},
     "output_type": "execute_result"
    }
   ],
   "source": [
    "len(y_tr.index)"
   ]
  },
  {
   "cell_type": "code",
   "execution_count": 24,
   "id": "1b4f7d6e",
   "metadata": {
    "execution": {
     "iopub.execute_input": "2022-09-30T05:38:18.295451Z",
     "iopub.status.busy": "2022-09-30T05:38:18.295034Z",
     "iopub.status.idle": "2022-09-30T05:38:18.301689Z",
     "shell.execute_reply": "2022-09-30T05:38:18.300655Z"
    },
    "papermill": {
     "duration": 0.019341,
     "end_time": "2022-09-30T05:38:18.303866",
     "exception": false,
     "start_time": "2022-09-30T05:38:18.284525",
     "status": "completed"
    },
    "tags": []
   },
   "outputs": [
    {
     "data": {
      "text/plain": [
       "8836"
      ]
     },
     "execution_count": 24,
     "metadata": {},
     "output_type": "execute_result"
    }
   ],
   "source": [
    "len(y_val.index)"
   ]
  },
  {
   "cell_type": "markdown",
   "id": "e03d826c",
   "metadata": {
    "papermill": {
     "duration": 0.009095,
     "end_time": "2022-09-30T05:38:18.322328",
     "exception": false,
     "start_time": "2022-09-30T05:38:18.313233",
     "status": "completed"
    },
    "tags": []
   },
   "source": [
    "Tokenizing is basically converting your textual data into machine readable forms (that is in a numbered form)."
   ]
  },
  {
   "cell_type": "code",
   "execution_count": 25,
   "id": "b8e88acf",
   "metadata": {
    "execution": {
     "iopub.execute_input": "2022-09-30T05:38:18.343202Z",
     "iopub.status.busy": "2022-09-30T05:38:18.342096Z",
     "iopub.status.idle": "2022-09-30T05:38:24.967422Z",
     "shell.execute_reply": "2022-09-30T05:38:24.966189Z"
    },
    "papermill": {
     "duration": 6.638727,
     "end_time": "2022-09-30T05:38:24.970259",
     "exception": false,
     "start_time": "2022-09-30T05:38:18.331532",
     "status": "completed"
    },
    "tags": []
   },
   "outputs": [],
   "source": [
    "# prepare a tokenizer for reviews on training data\n",
    "x_tokenizer = Tokenizer() #tokenizer instance\n",
    "x_tokenizer.fit_on_texts(list(x_tr)) \n",
    "# this'll tokenize everything basically add a encoding number for every word that appears\n",
    "\n",
    "# convert text sequences into integer sequences\n",
    "x_tr    =   x_tokenizer.texts_to_sequences(x_tr) # this'll replace the words to their encoded values\n",
    "x_val   =   x_tokenizer.texts_to_sequences(x_val)\n",
    "\n",
    "# padding zero upto maximum length\n",
    "# padding is to be done if we're faced with a scenario \n",
    "# in which the sentence also has unknown words\n",
    "x_tr    =   pad_sequences(x_tr,  maxlen=max_len_text, padding='post') \n",
    "x_val   =   pad_sequences(x_val, maxlen=max_len_text, padding='post')\n",
    "\n",
    "x_voc_size   =  len(x_tokenizer.word_index) +1"
   ]
  },
  {
   "cell_type": "code",
   "execution_count": 26,
   "id": "4fb24d12",
   "metadata": {
    "execution": {
     "iopub.execute_input": "2022-09-30T05:38:24.991499Z",
     "iopub.status.busy": "2022-09-30T05:38:24.990452Z",
     "iopub.status.idle": "2022-09-30T05:38:27.573607Z",
     "shell.execute_reply": "2022-09-30T05:38:27.572405Z"
    },
    "papermill": {
     "duration": 2.596288,
     "end_time": "2022-09-30T05:38:27.576231",
     "exception": false,
     "start_time": "2022-09-30T05:38:24.979943",
     "status": "completed"
    },
    "tags": []
   },
   "outputs": [],
   "source": [
    "y_tokenizer = Tokenizer()\n",
    "y_tokenizer.fit_on_texts(list(y_tr))\n",
    "\n",
    "#convert summary sequences into integer sequences\n",
    "y_tr    =   y_tokenizer.texts_to_sequences(y_tr) \n",
    "y_val   =   y_tokenizer.texts_to_sequences(y_val) \n",
    "\n",
    "#padding zero upto maximum length\n",
    "y_tr    =   pad_sequences(y_tr, maxlen=max_len_summary, padding='post')\n",
    "y_val   =   pad_sequences(y_val, maxlen=max_len_summary, padding='post')\n",
    "\n",
    "y_voc_size  =   len(y_tokenizer.word_index) +1"
   ]
  },
  {
   "cell_type": "code",
   "execution_count": 27,
   "id": "55a82d58",
   "metadata": {
    "execution": {
     "iopub.execute_input": "2022-09-30T05:38:27.597903Z",
     "iopub.status.busy": "2022-09-30T05:38:27.596837Z",
     "iopub.status.idle": "2022-09-30T05:38:29.520577Z",
     "shell.execute_reply": "2022-09-30T05:38:29.519403Z"
    },
    "papermill": {
     "duration": 1.93788,
     "end_time": "2022-09-30T05:38:29.523871",
     "exception": false,
     "start_time": "2022-09-30T05:38:27.585991",
     "status": "completed"
    },
    "tags": []
   },
   "outputs": [
    {
     "name": "stderr",
     "output_type": "stream",
     "text": [
      "2022-09-30 05:38:27.651497: I tensorflow/core/common_runtime/process_util.cc:146] Creating new thread pool with default inter op setting: 2. Tune using inter_op_parallelism_threads for best performance.\n"
     ]
    },
    {
     "name": "stdout",
     "output_type": "stream",
     "text": [
      "Model: \"model\"\n",
      "__________________________________________________________________________________________________\n",
      "Layer (type)                    Output Shape         Param #     Connected to                     \n",
      "==================================================================================================\n",
      "input_1 (InputLayer)            [(None, 80)]         0                                            \n",
      "__________________________________________________________________________________________________\n",
      "embedding (Embedding)           (None, 80, 500)      25785500    input_1[0][0]                    \n",
      "__________________________________________________________________________________________________\n",
      "lstm (LSTM)                     [(None, 80, 500), (N 2002000     embedding[0][0]                  \n",
      "__________________________________________________________________________________________________\n",
      "input_2 (InputLayer)            [(None, None)]       0                                            \n",
      "__________________________________________________________________________________________________\n",
      "lstm_1 (LSTM)                   [(None, 80, 500), (N 2002000     lstm[0][0]                       \n",
      "__________________________________________________________________________________________________\n",
      "embedding_1 (Embedding)         (None, None, 500)    7048000     input_2[0][0]                    \n",
      "__________________________________________________________________________________________________\n",
      "lstm_2 (LSTM)                   [(None, 80, 500), (N 2002000     lstm_1[0][0]                     \n",
      "__________________________________________________________________________________________________\n",
      "lstm_3 (LSTM)                   [(None, None, 500),  2002000     embedding_1[0][0]                \n",
      "                                                                 lstm_2[0][1]                     \n",
      "                                                                 lstm_2[0][2]                     \n",
      "__________________________________________________________________________________________________\n",
      "attention_layer (Attention)     (None, 80, 500)      0           lstm_2[0][0]                     \n",
      "                                                                 lstm_3[0][0]                     \n",
      "__________________________________________________________________________________________________\n",
      "concat_layer (Concatenate)      (None, 80, 1000)     0           lstm_3[0][0]                     \n",
      "                                                                 attention_layer[0][0]            \n",
      "__________________________________________________________________________________________________\n",
      "time_distributed (TimeDistribut (None, 80, 14096)    14110096    concat_layer[0][0]               \n",
      "==================================================================================================\n",
      "Total params: 54,951,596\n",
      "Trainable params: 54,951,596\n",
      "Non-trainable params: 0\n",
      "__________________________________________________________________________________________________\n"
     ]
    }
   ],
   "source": [
    "from keras import backend as K \n",
    "K.clear_session() \n",
    "latent_dim = 500 # number of nodes used as input of the generator\n",
    "\n",
    "encoder_inputs = Input(shape=(max_len_text,)) # to quantify the number of inputs needed for the encoder\n",
    "enc_emb = Embedding(x_voc_size, latent_dim,trainable=True)(encoder_inputs) \n",
    "# mo of nodes used as input of the generator \n",
    "\n",
    "#LSTM 1\n",
    "encoder_lstm1 = LSTM(latent_dim,return_sequences=True,return_state=True) \n",
    "encoder_output1, state_h1, state_c1 = encoder_lstm1(enc_emb)\n",
    "\n",
    "#LSTM 2 \n",
    "encoder_lstm2 = LSTM(latent_dim,return_sequences=True,return_state=True) \n",
    "encoder_output2, state_h2, state_c2 = encoder_lstm2(encoder_output1) \n",
    "\n",
    "#LSTM 3 \n",
    "encoder_lstm3=LSTM(latent_dim, return_state=True, return_sequences=True) \n",
    "encoder_outputs, state_h, state_c= encoder_lstm3(encoder_output2)\n",
    "\n",
    "decoder_inputs = Input(shape=(None,))\n",
    "dec_emb_layer = Embedding(y_voc_size, latent_dim,trainable=True) \n",
    "dec_emb = dec_emb_layer(decoder_inputs) \n",
    "\n",
    "#LSTM using encoder_states as initial state\n",
    "decoder_lstm = LSTM(latent_dim, return_sequences=True, return_state=True) \n",
    "decoder_outputs,decoder_fwd_state, decoder_back_state = decoder_lstm(dec_emb,initial_state=[state_h, state_c]) \n",
    "\n",
    "#Attention Layer\n",
    "attn_layer = Attention(name='attention_layer') \n",
    "attn_out = attn_layer([encoder_outputs, decoder_outputs]) \n",
    "\n",
    "# Concat attention output and decoder LSTM output \n",
    "decoder_concat_input = Concatenate(axis=-1, name='concat_layer')([decoder_outputs, attn_out])\n",
    "\n",
    "#Dense layer\n",
    "decoder_dense = TimeDistributed(Dense(y_voc_size, activation='softmax')) \n",
    "decoder_outputs = decoder_dense(decoder_concat_input) \n",
    "\n",
    "# Define the model\n",
    "model = Model([encoder_inputs, decoder_inputs], decoder_outputs) \n",
    "model.summary()"
   ]
  },
  {
   "cell_type": "markdown",
   "id": "5a311230",
   "metadata": {
    "papermill": {
     "duration": 0.010561,
     "end_time": "2022-09-30T05:38:29.548423",
     "exception": false,
     "start_time": "2022-09-30T05:38:29.537862",
     "status": "completed"
    },
    "tags": []
   },
   "source": [
    "# Input\n",
    "Used to initialize a tensor object, a tensor object is a special type of object used in tensorflow to extend neural networks upto higher dimensions\n",
    "\n",
    "# Embedding \n",
    "Turns positive integers (indexes) into dense vectors of fixed size.\n",
    "\n",
    "# LSTM\n",
    "Actually function to produce a LSTM, will result in production of the neural network.\n"
   ]
  },
  {
   "cell_type": "code",
   "execution_count": 28,
   "id": "a279812e",
   "metadata": {
    "execution": {
     "iopub.execute_input": "2022-09-30T05:38:29.570318Z",
     "iopub.status.busy": "2022-09-30T05:38:29.569907Z",
     "iopub.status.idle": "2022-09-30T05:38:29.584203Z",
     "shell.execute_reply": "2022-09-30T05:38:29.583288Z"
    },
    "papermill": {
     "duration": 0.02857,
     "end_time": "2022-09-30T05:38:29.586813",
     "exception": false,
     "start_time": "2022-09-30T05:38:29.558243",
     "status": "completed"
    },
    "tags": []
   },
   "outputs": [],
   "source": [
    "model.compile(optimizer='rmsprop', loss='sparse_categorical_crossentropy')"
   ]
  },
  {
   "cell_type": "code",
   "execution_count": 29,
   "id": "7417974d",
   "metadata": {
    "execution": {
     "iopub.execute_input": "2022-09-30T05:38:29.608880Z",
     "iopub.status.busy": "2022-09-30T05:38:29.607712Z",
     "iopub.status.idle": "2022-09-30T05:38:29.613648Z",
     "shell.execute_reply": "2022-09-30T05:38:29.612475Z"
    },
    "papermill": {
     "duration": 0.019388,
     "end_time": "2022-09-30T05:38:29.616081",
     "exception": false,
     "start_time": "2022-09-30T05:38:29.596693",
     "status": "completed"
    },
    "tags": []
   },
   "outputs": [],
   "source": [
    "es = EarlyStopping(monitor='val_loss', mode='min', verbose=1)"
   ]
  },
  {
   "cell_type": "code",
   "execution_count": 30,
   "id": "85ce6e2a",
   "metadata": {
    "_cell_guid": "b1076dfc-b9ad-4769-8c92-a6c4dae69d19",
    "_uuid": "8f2839f25d086af736a60e9eeb907d3b93b6e0e5",
    "execution": {
     "iopub.execute_input": "2022-09-30T05:38:29.641191Z",
     "iopub.status.busy": "2022-09-30T05:38:29.640406Z",
     "iopub.status.idle": "2022-09-30T05:38:29.654436Z",
     "shell.execute_reply": "2022-09-30T05:38:29.653156Z"
    },
    "papermill": {
     "duration": 0.030837,
     "end_time": "2022-09-30T05:38:29.656835",
     "exception": false,
     "start_time": "2022-09-30T05:38:29.625998",
     "status": "completed"
    },
    "tags": []
   },
   "outputs": [
    {
     "name": "stdout",
     "output_type": "stream",
     "text": [
      "/kaggle/input/amazon-fine-food-reviews/hashes.txt\n",
      "/kaggle/input/amazon-fine-food-reviews/Reviews.csv\n",
      "/kaggle/input/amazon-fine-food-reviews/database.sqlite\n"
     ]
    }
   ],
   "source": [
    "# This Python 3 environment comes with many helpful analytics libraries installed\n",
    "# It is defined by the kaggle/python Docker image: https://github.com/kaggle/docker-python\n",
    "# For example, here's several helpful packages to load\n",
    "\n",
    "import numpy as np # linear algebra\n",
    "import pandas as pd # data processing, CSV file I/O (e.g. pd.read_csv)\n",
    "\n",
    "# Input data files are available in the read-only \"../input/\" directory\n",
    "# For example, running this (by clicking run or pressing Shift+Enter) will list all files under the input directory\n",
    "\n",
    "import os\n",
    "for dirname, _, filenames in os.walk('/kaggle/input'):\n",
    "    for filename in filenames:\n",
    "        print(os.path.join(dirname, filename))\n",
    "\n",
    "# You can write up to 20GB to the current directory (/kaggle/working/) that gets preserved as output when you create a version using \"Save & Run All\" \n",
    "# You can also write temporary files to /kaggle/temp/, but they won't be saved outside of the current session"
   ]
  }
 ],
 "metadata": {
  "kernelspec": {
   "display_name": "Python 3",
   "language": "python",
   "name": "python3"
  },
  "language_info": {
   "codemirror_mode": {
    "name": "ipython",
    "version": 3
   },
   "file_extension": ".py",
   "mimetype": "text/x-python",
   "name": "python",
   "nbconvert_exporter": "python",
   "pygments_lexer": "ipython3",
   "version": "3.7.12"
  },
  "papermill": {
   "default_parameters": {},
   "duration": 66.269735,
   "end_time": "2022-09-30T05:38:32.803644",
   "environment_variables": {},
   "exception": null,
   "input_path": "__notebook__.ipynb",
   "output_path": "__notebook__.ipynb",
   "parameters": {},
   "start_time": "2022-09-30T05:37:26.533909",
   "version": "2.3.4"
  }
 },
 "nbformat": 4,
 "nbformat_minor": 5
}
